{
  "nbformat": 4,
  "nbformat_minor": 0,
  "metadata": {
    "colab": {
      "name": "Project 129.ipynb",
      "provenance": [],
      "authorship_tag": "ABX9TyMeSGC3D0QUCDPurB/f1k+Q",
      "include_colab_link": true
    },
    "kernelspec": {
      "name": "python3",
      "display_name": "Python 3"
    },
    "language_info": {
      "name": "python"
    }
  },
  "cells": [
    {
      "cell_type": "markdown",
      "metadata": {
        "id": "view-in-github",
        "colab_type": "text"
      },
      "source": [
        "<a href=\"https://colab.research.google.com/github/1prithipaabi/Project-129/blob/main/Project_129.ipynb\" target=\"_parent\"><img src=\"https://colab.research.google.com/assets/colab-badge.svg\" alt=\"Open In Colab\"/></a>"
      ]
    },
    {
      "cell_type": "code",
      "execution_count": 1,
      "metadata": {
        "colab": {
          "resources": {
            "http://localhost:8080/nbextensions/google.colab/files.js": {
              "data": "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",
              "ok": true,
              "headers": [
                [
                  "content-type",
                  "application/javascript"
                ]
              ],
              "status": 200,
              "status_text": ""
            }
          },
          "base_uri": "https://localhost:8080/",
          "height": 1000
        },
        "id": "O-tEC3vn2KMH",
        "outputId": "34ea66b3-e397-4e43-d4f3-ea709d048a50"
      },
      "outputs": [
        {
          "output_type": "display_data",
          "data": {
            "text/plain": [
              "<IPython.core.display.HTML object>"
            ],
            "text/html": [
              "\n",
              "     <input type=\"file\" id=\"files-49f6699b-ede7-41dc-b9cb-495521d1af43\" name=\"files[]\" multiple disabled\n",
              "        style=\"border:none\" />\n",
              "     <output id=\"result-49f6699b-ede7-41dc-b9cb-495521d1af43\">\n",
              "      Upload widget is only available when the cell has been executed in the\n",
              "      current browser session. Please rerun this cell to enable.\n",
              "      </output>\n",
              "      <script src=\"/nbextensions/google.colab/files.js\"></script> "
            ]
          },
          "metadata": {}
        },
        {
          "output_type": "stream",
          "name": "stdout",
          "text": [
            "Saving dwarf_stars.csv to dwarf_stars.csv\n"
          ]
        },
        {
          "output_type": "execute_result",
          "data": {
            "text/plain": [
              "{'dwarf_stars.csv': b\",Star_name,Distance,Mass,Radius\\r\\n0,SDSS J000013.54+255418.6\\xc2\\xa0[de],46.1,48,0.99\\r\\n1,2MASS J08283419-1309198,,,\\r\\n2,2MASS J00040288-6410358,192,19,1.63\\r\\n3,LHS 102BC,,,\\r\\n4,2MASS J00242463-0158201,37.7,79,1.09\\r\\n5,2MASS J00250365+4759191AB,143,,\\r\\n6,2MASS J00274197+0503417,236,31,1.44\\r\\n7,2MASS J00275592+2219328,46.9,,\\r\\n8,2MASSW J0030300-145033,87.2,54,0.98\\r\\n9,2MASS J00332386-1521309\\xc2\\xa0[de],131,29,1.43\\r\\n10,2MASS J00345157+0523050,31,42,0.94\\r\\n11,2MASS 0036+1821,28.6,42,0.94\\r\\n12,2MASSW J0045214+163445,57,23,1.62\\r\\n13,WISEP J004701.06+680352.1\\xc2\\xa0[fr],40,12,1.3\\r\\n14,2MASS J00501994-3322402\\xc2\\xa0[de],34,40,0.94\\r\\n15,2MASS J00034227-2822410,,,\\r\\n16,2MASS J00584253-0651239\\xc2\\xa0[de],96,29,1.43\\r\\n17,CFBDS J005910.90\\xe2\\x80\\x93011401.3,30,23,\\r\\n18,2MASSI J0103320+193536,70,52,0.98\\r\\n19,SDSSp J010752.33+004156.1\\xc2\\xa0[de],51,52,0.98\\r\\n20,2MASSI J0117474-340325\\xc2\\xa0[de],163,20,1.62\\r\\n21,2MASS J01415823-4633574\\xc2\\xa0[de],130,20,1.61\\r\\n22,SDSS J015141.69+124429.6,70,47,0.97\\r\\n23,DENIS-P J020529.0\\xe2\\x88\\x92115925A,65,,\\r\\n24,DENIS-P J020529.0\\xe2\\x88\\x92115925B,65,,\\r\\n25,DENIS-P J020529.0\\xe2\\x88\\x92115925C,65,,\\r\\n26,SDSS J020742.48+000056.2\\xc2\\xa0[de],111,47,0.97\\r\\n27,2MASS J02103857-3015313,101,15,1.53\\r\\n28,2MASS J02340093-6442068,155,20,1.62\\r\\n29,2MASS J02411151-0326587\\xc2\\xa0[de],152,27,1.41\\r\\n30,2MASS J02431371\\xe2\\x88\\x922453298,35,33,0.99\\r\\n31,LP 771-21,53,78,1.08\\r\\n32,2MASS J02511327+0047364,,,\\r\\n33,Teegarden's star,12.578,80,1.27\\r\\n34,2MASS J02535980+3206373,184,65,1.9\\r\\n35,WISE J0254+0223,24,65,1.9\\r\\n36,DEN 0255-4700,16.2,80,0.97\\r\\n37,2MASS J03185403-3421292\\xc2\\xa0[de],45,49,0.97\\r\\n38,2MASS J03205965+1854233,47,88,1.15\\r\\n39,2MASS J03231002-4631237,192,23,1.66\\r\\n40,SDSS J032553.17+042540.1,59,45,0.95\\r\\n41,2MASS J03264225-2102057\\xc2\\xa0[de],80,18,1.3\\r\\n42,2MASS J03284265+2302051\\xc2\\xa0[de],98,54,0.98\\r\\n43,2MASS J03341218-4953322,27.0,73,1.04\\r\\n44,LP 944-20,20.9,73,1.43\\r\\n45,2MASP J0345432+254023,88,74,1.05\\r\\n46,Teide 1,380,55,3.78\\r\\n47,2MASS J03510004-0052452,48,102,1.27\\r\\n48,2MASS J03552337+1133437,29.8,20,1.32\\r\\n49,DENIS-P J035726.9-441730\\xc2\\xa0[de],130,,\\r\\n50,2MASS J04151954\\xe2\\x88\\x920935066,18.6,30,0.95\\r\\n51,SDSSp J042348.57-041403.5\\xc2\\xa0[de],50,,\\r\\n52,2MASS J04285096-2253227\\xc2\\xa0[de],85,80,1.09\\r\\n53,2MASS J04351612-1606574,34,100,1.26\\r\\n54,2MASS J04362788-4114465,142,39,1.97\\r\\n55,2MASS J04390101-2353083\\xc2\\xa0[de],29.5,48,0.97\\r\\n56,2MASS J04414489+2301513,470,19,\\r\\n57,2MASS J04433764+0002040,82,22,1.78\\r\\n58,2MASS J04455387-3048204\\xc2\\xa0[de],42,64,1.00\\r\\n59,2MASS J04510093-3402150\\xc2\\xa0[de],69,72,1.04\\r\\n60,2MASS J05002100+0330501\\xc2\\xa0[de],44,64,1.00\\r\\n61,2MASS J05012406-0010452\\xc2\\xa0[de],64,21,1.38\\r\\n62,2MASS J05160945-0445499\\xc2\\xa0[de],73,47,0.97\\r\\n63,2MASS J0523\\xe2\\x88\\x921403,40,68,1.01\\r\\n64,2MASS 0532+8246,81,83,\\r\\n65,SDSS J053951.99-005902.0,41.62,61,1.01\\r\\n66,2MASS J05591914-1404488\\xc2\\xa0[de],34,,\\r\\n67,LSR 0602+3910\\xc2\\xa0[de],34.6,28,1.41\\r\\n68,2MASS J06085283-2753583,102,38,1.51\\r\\n69,WISEP J061135.13-041024.0A,69,65,\\r\\n70,WISEP J061135.13-041024.0B,69,53,\\r\\n71,2MASS J06244595-4521548\\xc2\\xa0[de],39,56,0.99\\r\\n72,2MASS J06411840-4322329\\xc2\\xa0[de],65,67,1.01\\r\\n73,DENIS-P J0652197-253450\\xc2\\xa0[de],51,75,1.05\\r\\n74,2MASS J07003664+3157266\\xc2\\xa0[de],40,,\\r\\n75,2MASS J07075327-4900503,60,72,1.03\\r\\n76,UGPS J072227.51-054031.2,13.4,26,0.98\\r\\n77,2MASSI J0727182+171001\\xc2\\xa0[de],29.6,41,0.94\\r\\n78,2MASS J07290002-3954043\\xc2\\xa0[de],25.8,37,0.94\\r\\n79,SDSS J074201.41+205520.5\\xc2\\xa0[de],49,43,0.94\\r\\n80,2MASS J0746425+200032\\xc2\\xa0[fr],49.6,,\\r\\n81,DENIS-P J0751164-253043\\xc2\\xa0[de],55,71,1.03\\r\\n82,2MASS J07522390+1612157,60,68,2.01\\r\\n83,DENIS J081730.0-615520,16.1,44,0.94\\r\\n84,DENIS J082303.1\\xe2\\x88\\x92491201A,67,44,\\r\\n85,DENIS J082303.1\\xe2\\x88\\x92491201B,67,28,\\r\\n86,2MASS J08251968+2115521\\xc2\\xa0[de],35,52,0.98\\r\\n87,SDSSp J083008.12+482847.4\\xc2\\xa0[de],43,48,0.99\\r\\n88,LHS 2021,55,88,1.15\\r\\n89,SDSS J083048.80+012831.1\\xc2\\xa0[de],77,46,0.96\\r\\n90,2MASSI J0835425-081923\\xc2\\xa0[de],23.53,62,1.00\\r\\n91,2MASSI J0847287-153237\\xc2\\xa0[de],43,64,1.00\\r\\n92,2MASS J08533619-0329321,27.6,77,1.07\\r\\n93,2MASSI J0859254-194926\\xc2\\xa0[de],50,50,0.98\\r\\n94,2MASSW J0920122+351742\\xc2\\xa0[de],95,,\\r\\n95,2MASSI J0937347+293142,20.0,42,0.94\\r\\n96,2MASS 0939\\xe2\\x88\\x922448,17.4,32,0.95\\r\\n97,2MASS J09490860-1545485\\xc2\\xa0[de],59,49,0.96\\r\\n98,2MASS J10073369-4555147,46,44,0.94\\r\\n99,2MASSI J1010148-040649\\xc2\\xa0[de],55,51,0.98\\r\\n100,2MASSI J1017075+130839\\xc2\\xa0[de],108,,\\r\\n101,SDSS J102109.69-030420.1,95,,\\r\\n102,2MASS J10224821+5825453\\xc2\\xa0[de],60,27,1.41\\r\\n103,2MASSW J1036530-344138\\xc2\\xa0[de],53,49,0.97\\r\\n104,2MASS J1047538+212423\\xc2\\xa0[de],34.4,42,0.94\\r\\n105,DEN 1048-3956,13.15,77,1.07\\r\\n106,Luhman 16B,6.516,43,1.02\\r\\n107,Luhman 16A,6.516,40,1.01\\r\\n108,DENIS-P J1058.7\\xe2\\x88\\x921548,49,64,1.00\\r\\n109,TWA 28,180,36,2.39\\r\\n110,Cha 110913-773444,163,8,1.8\\r\\n111,OTS 44,554,15,\\r\\n112,SDSS J111010.01+011613.1,63,9,1.24\\r\\n113,2MASS J11145133\\xe2\\x88\\x922618235,18.2,33,0.96\\r\\n114,TWA 26,137,30,2.20\\r\\n115,2MASSW J1146345+223053,89,,\\r\\n116,2MASS J11544223-3400390\\xc2\\xa0[de],129,37,1.50\\r\\n117,2MASSW J1155395-372735\\xc2\\xa0[de],31,64,1.00\\r\\n118,TWA 27A,,,\\r\\n119,TWA 27B,,,\\r\\n120,2MASS J12074836-3900043,217,17,1.71\\r\\n121,2MASSI J1217110-031113\\xc2\\xa0[de],36,42,0.94\\r\\n122,2MASS J12255432-2739466,43,,\\r\\n123,DENIS-P J1228.2-1547,66,,\\r\\n124,2M 1237+6526,45.6,41,0.94\\r\\n125,2MASSW J1239272+551537\\xc2\\xa0[de],119,,\\r\\n126,TWA 29,262,25,2.00\\r\\n127,SDSSp J125453.90-012247.4\\xc2\\xa0[de],38,47,0.98\\r\\n128,Kelu-1A,61,63,0.98\\r\\n129,Kelu-1B,61,58,0.98\\r\\n130,2MASS J13204427+0409045,101,67,1.01\\r\\n131,SDSSp J132629.82-003831.5\\xc2\\xa0[de],65,51,0.97\\r\\n132,SDSSp J134646.45-003150.4\\xc2\\xa0[de],48,44,0.94\\r\\n133,2MASS J13595510-4034582,51,63,1.00\\r\\n134,ULAS J141623.94+134836.3,29.7,32,0.96\\r\\n135,SDSS J141659.78+500626.4\\xc2\\xa0[de],149,59,0.99\\r\\n136,DENIS-P J142527.97-365023.4\\xc2\\xa0[de],38,21,1.32\\r\\n137,LHS 2924,38.5,76,1.06\\r\\n138,2MASS J14392837+1929150,47,72,1.03\\r\\n139,LSPM J1440+1339,72,92,1.19\\r\\n140,2MASS J14482563+1031590\\xc2\\xa0[de],47,59,0.99\\r\\n141,CFBDSIR 1458+10A,104,11.1,1.5\\r\\n142,CFBDSIR 1458+10B,104,9,1.3\\r\\n143,TVLM 513-46546,35.1,75,1.05\\r\\n144,2MASS 1503+2525,20.7,44,0.94\\r\\n145,CFBDS J150411+102717,71,44,0.94\\r\\n146,2MASSW J1506544+132106\\xc2\\xa0[de],46,69,1.02\\r\\n147,2MASS 1507\\xe2\\x88\\x921627,23.9,60,0.99\\r\\n148,TVLM 868-110639,53,79,1.08\\r\\n149,SDSS J151114.66+060742.9\\xc2\\xa0[de],89,,\\r\\n150,2MASSW J1515008+484742\\xc2\\xa0[de],34,57,0.99\\r\\n151,2MASSI J1526140+204341\\xc2\\xa0[de],67,54,0.98\\r\\n152,DENIS-P J153941.96-052042.4\\xc2\\xa0[de],51,63,1.00\\r\\n153,2MASS J15462718-3325111\\xc2\\xa0[de],37,44,0.94\\r\\n154,2MASSW J1552591+294849\\xc2\\xa0[de],68,30,1.43\\r\\n155,2MASSW J1555157-095605\\xc2\\xa0[de],44,71,1.03\\r\\n156,2MASS J16150413+1340079\\xc2\\xa0[de],48,42,0.94\\r\\n157,SDSSp J162414.37+002915.6\\xc2\\xa0[de],36,43,0.94\\r\\n158,2MASS J16262034+3925190\\xc2\\xa0[de],110,71,1.03\\r\\n159,2MASSW J1632291+190441\\xc2\\xa0[de],50,49,0.97\\r\\n160,WISEPA J164715.59+563208.2,28,41,0.94\\r\\n161,LSPM J1658+7027\\xc2\\xa0[de],60,73,1.04\\r\\n162,2MASSI J1726000+153819,114,24,1.40\\r\\n163,2MASSW J1728114+394859,79,,\\r\\n164,SDSSp J175032.96+175903.9,90,47,0.97\\r\\n165,2MASS J18283572-4849046,39,45,0.95\\r\\n166,LSR J1835+3259,18.5,77,1.07\\r\\n167,2MASSW J1841086+311727,138,67,1.01\\r\\n168,2MASS J18432213+4040209,46,96,1.22\\r\\n169,2MASS J20004841-7523070,105,25,1.88\\r\\n170,SDSS J204749.61-071818.3,65,46,0.96\\r\\n171,2MASSI J2057540-025230,47,70,1.02\\r\\n172,2MASSW J2101154+175658,108,,\\r\\n173,2MASSI J2104149-103736,62,69,1.02\\r\\n174,PSO J318.5\\xe2\\x88\\x9222,80,6.5,1.53\\r\\n175,HB 2124-4228,113,94,1.21\\r\\n176,2MASS J21392676+0220226,32.1,46,0.96\\r\\n177,2MASS J21481628+4003593,26.3,55,0.99\\r\\n178,2MASS J14112131-2119503,,,\\r\\n179,2MASSW J2206450-421721,93,22,1.33\\r\\n180,2MASSW J2208136+292121,154,27,1.41\\r\\n181,2MASSW J2224438-015852,38,61,0.99\\r\\n182,2MASS J22282889-4310262,35,42,0.94\\r\\n183,2MASS J22373255+3922398,64,73,1.04\\r\\n184,2MASSW J2244316+204343,56,12,1.29\\r\\n185,2MASS J23224684-3133231,56,24,1.39\\r\\n186,2MASS J23225299-6151275,148,17,1.59\\r\\n187,2MASS J23515044-2537367,67,88,1.16\\r\\n188,2MASSI J2356547-155310,74,80,1.09\\r\\n189,WISE 0005+3737,23.2,,\\r\\n190,WISE 0008-1739,87.1,,\\r\\n191,WISE 0015-4615,48.6,,\\r\\n192,WISE 0031-3840,71.8,,\\r\\n193,WISE 0032-4946,62.9,,\\r\\n194,WISE 0038+2758,36.9,,\\r\\n195,WISE 0038+8405,101.8,,\\r\\n196,WISE 0040+0900,47.6,,\\r\\n197,WISE 0049+0441,62.6,,\\r\\n198,WISE 0049+2151,24.1,,\\r\\n199,WISE 0106+1518,142.9,,\\r\\n200,WISE 0123+4142,67.2,,\\r\\n201,WISE 0135+1715,77.3,,\\r\\n202,WISE 0138-0322,57.7,,\\r\\n203,WISE 0146+4234,20.5,,\\r\\n204,WISE 0148-7202,30,,\\r\\n205,WISE 0150+3827,61.3,,\\r\\n206,WISE 0206+2640,58.4,,\\r\\n207,WISE 0221+3842,73.1,,\\r\\n208,WISE 0223-2932,47,,\\r\\n209,WISE 0226-0211,91,,\\r\\n210,WISE 0241-3653,53.8,,\\r\\n211,WISE 0245-3450,56.1,,\\r\\n212,WISE 0247+3725,57.1,,\\r\\n213,WISE 0305+3954,75,,\\r\\n214,WISE 0307+2904,82.8,,\\r\\n215,WISE 0313+7807,28,,\\r\\n216,WISE 0316+4307,106.3,,\\r\\n217,WISE 0321-7347,84.8,,\\r\\n218,WISE 0323-6025,45.3,,\\r\\n219,WISE 0325-3854,51.2,,\\r\\n220,WISE 0325+0831,36.5,,\\r\\n221,WISE 0333-5856,54.8,,\\r\\n222,WISE 0335+4310,45.7,,\\r\\n223,WISE 0336-0143,55.4,,\\r\\n224,WISE 0350-5658,17.7,,\\r\\n225,WISE 0359-5401,19.2,,\\r\\n226,WISE 0410+1502,20,6,1.17\\r\\n227,WISE 0410+1411,85.8,,\\r\\n228,WISE 0413-4750,66.2,,\\r\\n229,WISE 0448-1935,69.8,,\\r\\n230,WISE 0458+6434A,35.9,15,4.2\\r\\n231,WISE 0458+6434B,35.9,10,3.8\\r\\n232,WISE 0500-1223,47,,\\r\\n233,WISE 0513+0608,44.7,,\\r\\n234,WISE 0525+6739,98.2,,\\r\\n235,WISE 0528-3308,57.4,,\\r\\n236,WISE 0535-7500,47,,\\r\\n237,WISE 0539-1034,84.8,,\\r\\n238,WISE 0542-1628,50.6,,\\r\\n239,WISE 0607+2429,25.4,,\\r\\n240,WISE 0611-0410,57.7,,\\r\\n241,WISE 0612-4920,95.2,,\\r\\n242,WISE 0612-3036,64.9,,\\r\\n243,WISE 0614+3912,50.2,,\\r\\n244,WISE 0614+0951,51.5,,\\r\\n245,WISE 0623-0456,37.5,,\\r\\n246,WISE 0625+5646,67.2,,\\r\\n247,WISE 0627-1114,37.2,,\\r\\n248,WISE 0647-6232,28,,\\r\\n249,WISE 0656+4205,54.1,,\\r\\n250,WISE 0713-2917,23.2,,\\r\\n251,WISE 0723+3403,45.7,,\\r\\n252,WISE 0733+7544,78.3,,\\r\\n253,WISE 0734-7157,34.9,,\\r\\n254,WISE 0744+5628,47.3,,\\r\\n255,WISE 0750+2725,51.5,,\\r\\n256,WISE 0751-7634,39.1,,\\r\\n257,WISE 0759-4904,38.8,,\\r\\n258,WISE 0811-8051,32,,\\r\\n259,WISE 0812+4021,63.6,,\\r\\n260,WISE 0819-0335,46,,\\r\\n261,WISE 0821+1443,68.2,,\\r\\n262,WISE 0836-1859,72.4,,\\r\\n263,WISE 0857+5604,42.1,,\\r\\n264,WISE 0906+4735,51.5,,\\r\\n265,WISE 0929+0409,64.9,,\\r\\n266,WISE 0952+1955,72.1,,\\r\\n267,WISE 1018-2445,47.6,,\\r\\n268,WISE 1019+6529,56.8,,\\r\\n269,WISE 1039-1600,47.3,,\\r\\n270,WISE 1042-3842,53.2,,\\r\\n271,WISE 1051-2138,40.8,,\\r\\n272,WISE 1122+2550,57.7,,\\r\\n273,WISE 1124-0421,50.6,,\\r\\n274,WISE 1147-2040,102,,\\r\\n275,WISE 1150+6302,32.9,,\\r\\n276,WISE 1217+1626A,34.2,12,\\r\\n277,WISE 1217+1626B,34.2,6,\\r\\n278,WISE 1225-1013,55.4,,\\r\\n279,WISE 1311+0122,44.4,,\\r\\n280,WISE 1311+3629,86.1,,\\r\\n281,WISE 1318-1758,32.9,,\\r\\n282,WISE 1320+6034,56.1,,\\r\\n283,WISE 1322-2340,33.9,,\\r\\n284,WISE 1348+6603,91,,\\r\\n285,WISE 1405+5534,25.3,30,0.86\\r\\n286,WISE 1433-0837,84.8,,\\r\\n287,WISE 1436-1814,60,,\\r\\n288,WISE 1457+5815,52.2,,\\r\\n289,WISE 1506+7027,11.1,,\\r\\n290,WISE 1517+0529,72.4,,\\r\\n291,WISE 1519+7009,50.9,,\\r\\n292,WISE 1523+3125,84.5,,\\r\\n293,WISE 1541-2250,20,,\\r\\n294,WISE 1542+2230,41.1,,\\r\\n295,WISE 1612-3420,55.4,,\\r\\n296,WISE 1614+1739,32.6,,\\r\\n297,WISE 1617+1807,50.2,,\\r\\n298,WISE 1622-0959,52.2,,\\r\\n299,WISE 1627+3255,50.2,,\\r\\n300,WISE 1639-6847,16.3,,\\r\\n301,WISE 1647+5632,28,,\\r\\n302,WISE 1653+4444,39.5,,\\r\\n303,WISE 1711+3500,60.3,,\\r\\n304,WISE 1717+6129,72.7,,\\r\\n305,WISE 1721+1117,62.3,,\\r\\n306,WISE 1728+5716,97.8,,\\r\\n307,WISE 1738+2732,20,,\\r\\n308,WISE 1741+2553,18.9,,\\r\\n309,WISE 1746-0338,83.8,,\\r\\n310,WISE 1800+0134,28.7,57,\\r\\n311,WISE 1804+3117,30,,\\r\\n312,WISE 1809+3838,74.4,,\\r\\n313,WISE 1812+2721,47,,\\r\\n314,WISE 1828+2650,36,,\\r\\n315,WISE 1830+4542,107,,\\r\\n316,WISE 1841+7000,131.1,,\\r\\n317,WISE 1852+3537,55.4,,\\r\\n318,WISE 1906+4508,51.5,,\\r\\n319,WISE 1928+2356,22.8,,\\r\\n320,WISE 1952+7240,44.4,,\\r\\n321,WISE 1959-3338,37.2,,\\r\\n322,WISE 2030+0749,34.2,,\\r\\n323,WISE 2014+0424,96.2,,\\r\\n324,WISE 2015+6646,50.6,,\\r\\n325,WISE 2018-7423,47.9,,\\r\\n326,WISE 2019-1148,42.4,,\\r\\n327,WISE 2056+1459,24.5,,\\r\\n328,WISE 2134-7137,42.7,,\\r\\n329,WISE 2157+2659,61.6,,\\r\\n330,WISE 2209-2734,46,,\\r\\n331,WISE 2213+0911,58.7,,\\r\\n332,WISE 2220-3628,26.4,,\\r\\n333,WISE 2226+0440,45,,\\r\\n334,WISE 2237-0614,53.5,,\\r\\n335,WISE 2237+7228,46,,\\r\\n336,WISE 2239+1617,59.7,,\\r\\n337,WISE 2255-3118,44.7,,\\r\\n338,WISE 2301+0216,60.7,,\\r\\n339,WISE 2313-8037,35.9,,\\r\\n340,WISE 2319-1844,52.2,,\\r\\n341,WISE 2325-4105,37.5,,\\r\\n342,WISE 2327-2730,70.8,,\\r\\n343,WISE 2335+4222,90.3,,\\r\\n344,WISE 2340-0745,37.8,,\\r\\n345,WISE 2342+0856,51.2,,\\r\\n346,WISE 2343-7418,48.6,,\\r\\n347,WISE 2344+1034,46,,\\r\\n348,WISE 2348-1028,54.1,,\\r\\n349,WISE 2357+1227,54.8,,\\r\\n350,WISE 2359-7335,42.7,,\\r\\n351,WISEA 1101+5400,111,,\\r\\n352,2M1510,120,40 + 39 +\\xc2\\xa0?,\\r\\n\"}"
            ]
          },
          "metadata": {},
          "execution_count": 1
        }
      ],
      "source": [
        "from google.colab import files\n",
        "files.upload()"
      ]
    },
    {
      "cell_type": "code",
      "source": [
        "import pandas as pd\n",
        "df = pd.read_csv(\"dwarf_stars.csv\")\n",
        "df.head()"
      ],
      "metadata": {
        "colab": {
          "base_uri": "https://localhost:8080/",
          "height": 206
        },
        "id": "j1bhjmpf2YKn",
        "outputId": "6e4cf405-8b48-485c-a712-304523e1b743"
      },
      "execution_count": 2,
      "outputs": [
        {
          "output_type": "execute_result",
          "data": {
            "text/plain": [
              "   Unnamed: 0                      Star_name  Distance Mass  Radius\n",
              "0           0  SDSS J000013.54+255418.6 [de]      46.1   48    0.99\n",
              "1           1        2MASS J08283419-1309198       NaN  NaN     NaN\n",
              "2           2        2MASS J00040288-6410358     192.0   19    1.63\n",
              "3           3                      LHS 102BC       NaN  NaN     NaN\n",
              "4           4        2MASS J00242463-0158201      37.7   79    1.09"
            ],
            "text/html": [
              "\n",
              "  <div id=\"df-47435b64-cdfe-414e-abc5-7f62b8735ba8\">\n",
              "    <div class=\"colab-df-container\">\n",
              "      <div>\n",
              "<style scoped>\n",
              "    .dataframe tbody tr th:only-of-type {\n",
              "        vertical-align: middle;\n",
              "    }\n",
              "\n",
              "    .dataframe tbody tr th {\n",
              "        vertical-align: top;\n",
              "    }\n",
              "\n",
              "    .dataframe thead th {\n",
              "        text-align: right;\n",
              "    }\n",
              "</style>\n",
              "<table border=\"1\" class=\"dataframe\">\n",
              "  <thead>\n",
              "    <tr style=\"text-align: right;\">\n",
              "      <th></th>\n",
              "      <th>Unnamed: 0</th>\n",
              "      <th>Star_name</th>\n",
              "      <th>Distance</th>\n",
              "      <th>Mass</th>\n",
              "      <th>Radius</th>\n",
              "    </tr>\n",
              "  </thead>\n",
              "  <tbody>\n",
              "    <tr>\n",
              "      <th>0</th>\n",
              "      <td>0</td>\n",
              "      <td>SDSS J000013.54+255418.6 [de]</td>\n",
              "      <td>46.1</td>\n",
              "      <td>48</td>\n",
              "      <td>0.99</td>\n",
              "    </tr>\n",
              "    <tr>\n",
              "      <th>1</th>\n",
              "      <td>1</td>\n",
              "      <td>2MASS J08283419-1309198</td>\n",
              "      <td>NaN</td>\n",
              "      <td>NaN</td>\n",
              "      <td>NaN</td>\n",
              "    </tr>\n",
              "    <tr>\n",
              "      <th>2</th>\n",
              "      <td>2</td>\n",
              "      <td>2MASS J00040288-6410358</td>\n",
              "      <td>192.0</td>\n",
              "      <td>19</td>\n",
              "      <td>1.63</td>\n",
              "    </tr>\n",
              "    <tr>\n",
              "      <th>3</th>\n",
              "      <td>3</td>\n",
              "      <td>LHS 102BC</td>\n",
              "      <td>NaN</td>\n",
              "      <td>NaN</td>\n",
              "      <td>NaN</td>\n",
              "    </tr>\n",
              "    <tr>\n",
              "      <th>4</th>\n",
              "      <td>4</td>\n",
              "      <td>2MASS J00242463-0158201</td>\n",
              "      <td>37.7</td>\n",
              "      <td>79</td>\n",
              "      <td>1.09</td>\n",
              "    </tr>\n",
              "  </tbody>\n",
              "</table>\n",
              "</div>\n",
              "      <button class=\"colab-df-convert\" onclick=\"convertToInteractive('df-47435b64-cdfe-414e-abc5-7f62b8735ba8')\"\n",
              "              title=\"Convert this dataframe to an interactive table.\"\n",
              "              style=\"display:none;\">\n",
              "        \n",
              "  <svg xmlns=\"http://www.w3.org/2000/svg\" height=\"24px\"viewBox=\"0 0 24 24\"\n",
              "       width=\"24px\">\n",
              "    <path d=\"M0 0h24v24H0V0z\" fill=\"none\"/>\n",
              "    <path d=\"M18.56 5.44l.94 2.06.94-2.06 2.06-.94-2.06-.94-.94-2.06-.94 2.06-2.06.94zm-11 1L8.5 8.5l.94-2.06 2.06-.94-2.06-.94L8.5 2.5l-.94 2.06-2.06.94zm10 10l.94 2.06.94-2.06 2.06-.94-2.06-.94-.94-2.06-.94 2.06-2.06.94z\"/><path d=\"M17.41 7.96l-1.37-1.37c-.4-.4-.92-.59-1.43-.59-.52 0-1.04.2-1.43.59L10.3 9.45l-7.72 7.72c-.78.78-.78 2.05 0 2.83L4 21.41c.39.39.9.59 1.41.59.51 0 1.02-.2 1.41-.59l7.78-7.78 2.81-2.81c.8-.78.8-2.07 0-2.86zM5.41 20L4 18.59l7.72-7.72 1.47 1.35L5.41 20z\"/>\n",
              "  </svg>\n",
              "      </button>\n",
              "      \n",
              "  <style>\n",
              "    .colab-df-container {\n",
              "      display:flex;\n",
              "      flex-wrap:wrap;\n",
              "      gap: 12px;\n",
              "    }\n",
              "\n",
              "    .colab-df-convert {\n",
              "      background-color: #E8F0FE;\n",
              "      border: none;\n",
              "      border-radius: 50%;\n",
              "      cursor: pointer;\n",
              "      display: none;\n",
              "      fill: #1967D2;\n",
              "      height: 32px;\n",
              "      padding: 0 0 0 0;\n",
              "      width: 32px;\n",
              "    }\n",
              "\n",
              "    .colab-df-convert:hover {\n",
              "      background-color: #E2EBFA;\n",
              "      box-shadow: 0px 1px 2px rgba(60, 64, 67, 0.3), 0px 1px 3px 1px rgba(60, 64, 67, 0.15);\n",
              "      fill: #174EA6;\n",
              "    }\n",
              "\n",
              "    [theme=dark] .colab-df-convert {\n",
              "      background-color: #3B4455;\n",
              "      fill: #D2E3FC;\n",
              "    }\n",
              "\n",
              "    [theme=dark] .colab-df-convert:hover {\n",
              "      background-color: #434B5C;\n",
              "      box-shadow: 0px 1px 3px 1px rgba(0, 0, 0, 0.15);\n",
              "      filter: drop-shadow(0px 1px 2px rgba(0, 0, 0, 0.3));\n",
              "      fill: #FFFFFF;\n",
              "    }\n",
              "  </style>\n",
              "\n",
              "      <script>\n",
              "        const buttonEl =\n",
              "          document.querySelector('#df-47435b64-cdfe-414e-abc5-7f62b8735ba8 button.colab-df-convert');\n",
              "        buttonEl.style.display =\n",
              "          google.colab.kernel.accessAllowed ? 'block' : 'none';\n",
              "\n",
              "        async function convertToInteractive(key) {\n",
              "          const element = document.querySelector('#df-47435b64-cdfe-414e-abc5-7f62b8735ba8');\n",
              "          const dataTable =\n",
              "            await google.colab.kernel.invokeFunction('convertToInteractive',\n",
              "                                                     [key], {});\n",
              "          if (!dataTable) return;\n",
              "\n",
              "          const docLinkHtml = 'Like what you see? Visit the ' +\n",
              "            '<a target=\"_blank\" href=https://colab.research.google.com/notebooks/data_table.ipynb>data table notebook</a>'\n",
              "            + ' to learn more about interactive tables.';\n",
              "          element.innerHTML = '';\n",
              "          dataTable['output_type'] = 'display_data';\n",
              "          await google.colab.output.renderOutput(dataTable, element);\n",
              "          const docLink = document.createElement('div');\n",
              "          docLink.innerHTML = docLinkHtml;\n",
              "          element.appendChild(docLink);\n",
              "        }\n",
              "      </script>\n",
              "    </div>\n",
              "  </div>\n",
              "  "
            ]
          },
          "metadata": {},
          "execution_count": 2
        }
      ]
    },
    {
      "cell_type": "code",
      "source": [
        "df.dtypes"
      ],
      "metadata": {
        "colab": {
          "base_uri": "https://localhost:8080/"
        },
        "id": "OM7FaDkL2o0o",
        "outputId": "d4b6aa6d-37e0-4b21-b645-8543acfe9a41"
      },
      "execution_count": 3,
      "outputs": [
        {
          "output_type": "execute_result",
          "data": {
            "text/plain": [
              "Unnamed: 0      int64\n",
              "Star_name      object\n",
              "Distance      float64\n",
              "Mass           object\n",
              "Radius        float64\n",
              "dtype: object"
            ]
          },
          "metadata": {},
          "execution_count": 3
        }
      ]
    },
    {
      "cell_type": "code",
      "source": [
        "df = df.dropna()"
      ],
      "metadata": {
        "id": "I3FtxRN12trL"
      },
      "execution_count": 4,
      "outputs": []
    },
    {
      "cell_type": "code",
      "source": [
        "df[\"Radius\"] = 0.102763*df[\"Radius\"]"
      ],
      "metadata": {
        "id": "X4owpjoq22ib"
      },
      "execution_count": 5,
      "outputs": []
    },
    {
      "cell_type": "code",
      "source": [
        "df['Mass']=df['Mass'].apply(lambda x: x.replace('$', '').replace(',', '')).astype('float')"
      ],
      "metadata": {
        "id": "zR6j2s4C3Bn6"
      },
      "execution_count": 6,
      "outputs": []
    },
    {
      "cell_type": "code",
      "source": [
        "df[\"Mass\"] = 0.000954588*df[\"Mass\"]\n",
        "df.drop(['Unnamed: 0'],axis = 1, inplace = True)\n",
        "df.head()"
      ],
      "metadata": {
        "colab": {
          "base_uri": "https://localhost:8080/",
          "height": 206
        },
        "id": "7JzXDRZm3SrT",
        "outputId": "5c09db2a-53f8-47a6-e895-537f2f37c9af"
      },
      "execution_count": 7,
      "outputs": [
        {
          "output_type": "execute_result",
          "data": {
            "text/plain": [
              "                       Star_name  Distance      Mass    Radius\n",
              "0  SDSS J000013.54+255418.6 [de]      46.1  0.045820  0.101735\n",
              "2        2MASS J00040288-6410358     192.0  0.018137  0.167504\n",
              "4        2MASS J00242463-0158201      37.7  0.075412  0.112012\n",
              "6        2MASS J00274197+0503417     236.0  0.029592  0.147979\n",
              "8         2MASSW J0030300-145033      87.2  0.051548  0.100708"
            ],
            "text/html": [
              "\n",
              "  <div id=\"df-5e01045f-c2e6-455e-91ac-7895ea21cb4a\">\n",
              "    <div class=\"colab-df-container\">\n",
              "      <div>\n",
              "<style scoped>\n",
              "    .dataframe tbody tr th:only-of-type {\n",
              "        vertical-align: middle;\n",
              "    }\n",
              "\n",
              "    .dataframe tbody tr th {\n",
              "        vertical-align: top;\n",
              "    }\n",
              "\n",
              "    .dataframe thead th {\n",
              "        text-align: right;\n",
              "    }\n",
              "</style>\n",
              "<table border=\"1\" class=\"dataframe\">\n",
              "  <thead>\n",
              "    <tr style=\"text-align: right;\">\n",
              "      <th></th>\n",
              "      <th>Star_name</th>\n",
              "      <th>Distance</th>\n",
              "      <th>Mass</th>\n",
              "      <th>Radius</th>\n",
              "    </tr>\n",
              "  </thead>\n",
              "  <tbody>\n",
              "    <tr>\n",
              "      <th>0</th>\n",
              "      <td>SDSS J000013.54+255418.6 [de]</td>\n",
              "      <td>46.1</td>\n",
              "      <td>0.045820</td>\n",
              "      <td>0.101735</td>\n",
              "    </tr>\n",
              "    <tr>\n",
              "      <th>2</th>\n",
              "      <td>2MASS J00040288-6410358</td>\n",
              "      <td>192.0</td>\n",
              "      <td>0.018137</td>\n",
              "      <td>0.167504</td>\n",
              "    </tr>\n",
              "    <tr>\n",
              "      <th>4</th>\n",
              "      <td>2MASS J00242463-0158201</td>\n",
              "      <td>37.7</td>\n",
              "      <td>0.075412</td>\n",
              "      <td>0.112012</td>\n",
              "    </tr>\n",
              "    <tr>\n",
              "      <th>6</th>\n",
              "      <td>2MASS J00274197+0503417</td>\n",
              "      <td>236.0</td>\n",
              "      <td>0.029592</td>\n",
              "      <td>0.147979</td>\n",
              "    </tr>\n",
              "    <tr>\n",
              "      <th>8</th>\n",
              "      <td>2MASSW J0030300-145033</td>\n",
              "      <td>87.2</td>\n",
              "      <td>0.051548</td>\n",
              "      <td>0.100708</td>\n",
              "    </tr>\n",
              "  </tbody>\n",
              "</table>\n",
              "</div>\n",
              "      <button class=\"colab-df-convert\" onclick=\"convertToInteractive('df-5e01045f-c2e6-455e-91ac-7895ea21cb4a')\"\n",
              "              title=\"Convert this dataframe to an interactive table.\"\n",
              "              style=\"display:none;\">\n",
              "        \n",
              "  <svg xmlns=\"http://www.w3.org/2000/svg\" height=\"24px\"viewBox=\"0 0 24 24\"\n",
              "       width=\"24px\">\n",
              "    <path d=\"M0 0h24v24H0V0z\" fill=\"none\"/>\n",
              "    <path d=\"M18.56 5.44l.94 2.06.94-2.06 2.06-.94-2.06-.94-.94-2.06-.94 2.06-2.06.94zm-11 1L8.5 8.5l.94-2.06 2.06-.94-2.06-.94L8.5 2.5l-.94 2.06-2.06.94zm10 10l.94 2.06.94-2.06 2.06-.94-2.06-.94-.94-2.06-.94 2.06-2.06.94z\"/><path d=\"M17.41 7.96l-1.37-1.37c-.4-.4-.92-.59-1.43-.59-.52 0-1.04.2-1.43.59L10.3 9.45l-7.72 7.72c-.78.78-.78 2.05 0 2.83L4 21.41c.39.39.9.59 1.41.59.51 0 1.02-.2 1.41-.59l7.78-7.78 2.81-2.81c.8-.78.8-2.07 0-2.86zM5.41 20L4 18.59l7.72-7.72 1.47 1.35L5.41 20z\"/>\n",
              "  </svg>\n",
              "      </button>\n",
              "      \n",
              "  <style>\n",
              "    .colab-df-container {\n",
              "      display:flex;\n",
              "      flex-wrap:wrap;\n",
              "      gap: 12px;\n",
              "    }\n",
              "\n",
              "    .colab-df-convert {\n",
              "      background-color: #E8F0FE;\n",
              "      border: none;\n",
              "      border-radius: 50%;\n",
              "      cursor: pointer;\n",
              "      display: none;\n",
              "      fill: #1967D2;\n",
              "      height: 32px;\n",
              "      padding: 0 0 0 0;\n",
              "      width: 32px;\n",
              "    }\n",
              "\n",
              "    .colab-df-convert:hover {\n",
              "      background-color: #E2EBFA;\n",
              "      box-shadow: 0px 1px 2px rgba(60, 64, 67, 0.3), 0px 1px 3px 1px rgba(60, 64, 67, 0.15);\n",
              "      fill: #174EA6;\n",
              "    }\n",
              "\n",
              "    [theme=dark] .colab-df-convert {\n",
              "      background-color: #3B4455;\n",
              "      fill: #D2E3FC;\n",
              "    }\n",
              "\n",
              "    [theme=dark] .colab-df-convert:hover {\n",
              "      background-color: #434B5C;\n",
              "      box-shadow: 0px 1px 3px 1px rgba(0, 0, 0, 0.15);\n",
              "      filter: drop-shadow(0px 1px 2px rgba(0, 0, 0, 0.3));\n",
              "      fill: #FFFFFF;\n",
              "    }\n",
              "  </style>\n",
              "\n",
              "      <script>\n",
              "        const buttonEl =\n",
              "          document.querySelector('#df-5e01045f-c2e6-455e-91ac-7895ea21cb4a button.colab-df-convert');\n",
              "        buttonEl.style.display =\n",
              "          google.colab.kernel.accessAllowed ? 'block' : 'none';\n",
              "\n",
              "        async function convertToInteractive(key) {\n",
              "          const element = document.querySelector('#df-5e01045f-c2e6-455e-91ac-7895ea21cb4a');\n",
              "          const dataTable =\n",
              "            await google.colab.kernel.invokeFunction('convertToInteractive',\n",
              "                                                     [key], {});\n",
              "          if (!dataTable) return;\n",
              "\n",
              "          const docLinkHtml = 'Like what you see? Visit the ' +\n",
              "            '<a target=\"_blank\" href=https://colab.research.google.com/notebooks/data_table.ipynb>data table notebook</a>'\n",
              "            + ' to learn more about interactive tables.';\n",
              "          element.innerHTML = '';\n",
              "          dataTable['output_type'] = 'display_data';\n",
              "          await google.colab.output.renderOutput(dataTable, element);\n",
              "          const docLink = document.createElement('div');\n",
              "          docLink.innerHTML = docLinkHtml;\n",
              "          element.appendChild(docLink);\n",
              "        }\n",
              "      </script>\n",
              "    </div>\n",
              "  </div>\n",
              "  "
            ]
          },
          "metadata": {},
          "execution_count": 7
        }
      ]
    },
    {
      "cell_type": "code",
      "source": [
        "df.dtypes"
      ],
      "metadata": {
        "colab": {
          "base_uri": "https://localhost:8080/"
        },
        "id": "2JoFNF_u3rwq",
        "outputId": "949d8505-a39d-4be2-bc10-6670d07667f6"
      },
      "execution_count": 8,
      "outputs": [
        {
          "output_type": "execute_result",
          "data": {
            "text/plain": [
              "Star_name     object\n",
              "Distance     float64\n",
              "Mass         float64\n",
              "Radius       float64\n",
              "dtype: object"
            ]
          },
          "metadata": {},
          "execution_count": 8
        }
      ]
    },
    {
      "cell_type": "code",
      "source": [
        "df.reset_index(drop = True, inplace = True)\n",
        "df.to_csv(\"unit_converted_stars.csv\")"
      ],
      "metadata": {
        "id": "BFSmSrP23wY6"
      },
      "execution_count": 9,
      "outputs": []
    },
    {
      "cell_type": "code",
      "source": [
        "from google.colab import files\n",
        "files.upload()"
      ],
      "metadata": {
        "colab": {
          "resources": {
            "http://localhost:8080/nbextensions/google.colab/files.js": {
              "data": "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",
              "ok": true,
              "headers": [
                [
                  "content-type",
                  "application/javascript"
                ]
              ],
              "status": 200,
              "status_text": ""
            }
          },
          "base_uri": "https://localhost:8080/",
          "height": 579
        },
        "id": "mBM2jlHG4f2E",
        "outputId": "394f3705-eb4a-4a7a-b1f3-96f3c4efa836"
      },
      "execution_count": 10,
      "outputs": [
        {
          "output_type": "display_data",
          "data": {
            "text/plain": [
              "<IPython.core.display.HTML object>"
            ],
            "text/html": [
              "\n",
              "     <input type=\"file\" id=\"files-b42c7d9b-b604-43f4-897d-4b708e019457\" name=\"files[]\" multiple disabled\n",
              "        style=\"border:none\" />\n",
              "     <output id=\"result-b42c7d9b-b604-43f4-897d-4b708e019457\">\n",
              "      Upload widget is only available when the cell has been executed in the\n",
              "      current browser session. Please rerun this cell to enable.\n",
              "      </output>\n",
              "      <script src=\"/nbextensions/google.colab/files.js\"></script> "
            ]
          },
          "metadata": {}
        },
        {
          "output_type": "stream",
          "name": "stdout",
          "text": [
            "Saving bright_stars.csv to bright_stars.csv\n"
          ]
        },
        {
          "output_type": "execute_result",
          "data": {
            "text/plain": [
              "{'bright_stars.csv': b',Star_name,Distance,Mass,Radius,Luminosity\\r\\n0,Sun,0.000015813,1,1,1\\r\\n1,Sirius,0008.6,2.1,1.71,25.4\\r\\n2,Canopus,0310,15,71,\"13,500\"\\r\\n3,Alpha Centauri,0004.4,1.1,1.2,2\\r\\n4,Arcturus,0037,1.1,26,170\\r\\n5,Vega,0025,2.2,2.7,50\\r\\n6,Capella,0043,2.6,12,150\\r\\n7,Rigel,0860,23,78.9,\"120,000\"\\r\\n8,Procyon,0011.4,1.5,1.9,7.7\\r\\n9,Betelgeuse,0640[1],20,950,\"60,000\"\\r\\n10,Achernar,0144,6.7,9.3,\"3,000\"\\r\\n11,Hadar,0390,10.5,8.6,\"42,000\"\\r\\n12,Altair,0017,1.8,1.8,10.5\\r\\n13,Acrux,0320,18,8.9,\"25,000\"\\r\\n14,Aldebaran,0065,1.5,44,520\\r\\n15,Antares,0600,12,680,\"75,000\"\\r\\n16,Spica,0260,11.43,7.47,\"20,512\"\\r\\n17,Pollux,0034,1.9,8.8,43\\r\\n18,Fomalhaut,0025,1.9,1.8,16.6\\r\\n19,Deneb,\"2,600\",19,203,\"200,000\"\\r\\n20,Mimosa,0350,16,8.4,\"34,000\"\\r\\n21,Regulus,0077,3.8,3.1,290\\r\\n22,Adhara,0430,12.5,14,\"39,000\"\\r\\n23,Shaula,0700,14.5,8.8,\"36,000\"\\r\\n24,Castor,0052,2.8,2.4,30\\r\\n25,Gacrux,0088,1.5,84,820\\r\\n26,Bellatrix,0240,8.6,5.8,\"9,200\"\\r\\n27,Elnath,0130,5.0,4.2,700\\r\\n28,Miaplacidus,0110,3.5,6.8,290\\r\\n29,Alnilam,\"2,000\",32,42,\"380,000\"\\r\\n30,Gamma Velorum,\"01,100\",9.0,6,\"170,000\"\\r\\n31,Alnair,0101,4.0,3.4,260\\r\\n32,Alioth,0081,2.9,4.2,110\\r\\n33,Alnitak,01050,33,20,\"120,000\"\\r\\n34,Dubhe,0120,4.25,30,300\\r\\n35,Mirfak,0590,8.5,68,\"5,000\"\\r\\n36,Wezen,\"1,600\",17,200,\"82,000\"\\r\\n37,Sargas,0270,5.7,26,\"1,800\"\\r\\n38,Kaus Australis,0140,3.5,6.8,360\\r\\n39,Avior,0630,9.0,130,\"60,000\"\\r\\n40,Alkaid,0104,6.1,3.4,\"1,350\"\\r\\n41,Menkalinan,081,2.39,2.77,50\\r\\n42,Atria,0390,7,92,\"5,500\"\\r\\n43,Alhena,0109,2.8,3.3,120\\r\\n44,Peacock,0180,5.9,4.8,\"2,200\"\\r\\n45,Alsephina[2],0080,2.4,2.9,90\\r\\n46,Mirzam,0500,13.5,10,\"27,000\"\\r\\n47,Polaris,0430,5.4,39,\"2,500\"\\r\\n48,Alphard,0180,3.0,50,780\\r\\n49,Mintaka,01200,24,16.5,\"190,000\"\\r\\n50,Scheat,0196,2.1,95,\"1,500\"\\r\\n51,Almaaz,0653,15,140,\"43,000\"\\r\\n52,Rasalgethi,0360,2.8,280,\"8,300\"\\r\\n53,Tau Ceti,011.9,0.783,0.893,0.52\\r\\n54,Delta Pavonis,019.92,0.991,1.22,1.22\\r\\n55,Ran,010.48,0.82,0.74,0.34\\r\\n56,V382 Carinae,\"08,900\",20,485,\"212,000\"\\r\\n57,Eta Carinae,\"07,500\",100,60\\xe2\\x80\\x93881,\"5,000,000\"\\r\\n58,Delta Cephei,0887,4.5,44.5,\"2,000\"\\r\\n59,Mu Cephei,\"06,000\",19.2,972,\"135,000\"\\r\\n60,Titawin,044.25,1.27,1.48,3.57\\r\\n61,Rho Cassiopeiae,\"08,154\",22,636-981,\"347,000 - 530,000\"\\r\\n62,P Cygni,\"05,545\",30,76,\"610,000\"\\r\\n63,La Superba,\"01,000\",,129 - 342,\"2,472 - 5,800\"\\r\\n64,VV Cephei,\"04,900\",18.2,\"516 - 1,050\",\"200,000\"\\r\\n65,61 Cygni,011.41,0.7,0.665,0.153\\r\\n66,R Doradus,0178,0.7 - 1.0,298,\"4,350\"\\r\\n67,Polaris Australis,0281,1.59,3.74,38\\r\\n68,R Coronae Borealis,\"04,566\",0.85,85,\"10,000\"\\r\\n69,54 Piscium,036.1,0.76,0.94,0.52\\r\\n70,Mira,0300,1.2,370,\"9,000\"\\r\\n71,RW Cephei,\"014,000\",13.9,\"1,158\",\"417,000\"\\r\\n72,Lacaille 8760,012.87,0.6,0.51,0.072\\r\\n73,V838 Monocerotis,\"019,896\",?,380 - 750,\"15,000\"\\r\\n74,HD 140283,0190,?,1.4,3.83\\r\\n75,II Pegasi,0130,0.8,3.4,1.06\\r\\n76,VY Canis Majoris,\"03,900\",17,\"1,420\",\"178,000 - 270,000\"\\r\\n77,Pistol Star,\"025,000\",100,320,\"1,700,000\"\\r\\n78,S Doradus,\"0169,000\",24,380,\"910,000\"\\r\\n79,UY Scuti,\"05,100\",7\\xe2\\x80\\x9310,755,\"86,300 - 87,100\"\\r\\n80,Barnard\\'s Star,05.98,0.14,0.20,0.0035\\r\\n81,Luhman 16,06.52,0.04,?,?\\r\\n82,Proxima Centauri,04.25,0.12,0.15,0.0017\\r\\n83,KIC 8462852,\"01,470\",1.43,1.58,4.68\\r\\n84,R136a1,\"0163,000\",290,32,\"8,710,000\"\\r\\n85,Melnick 42,\"0163,000\",189,21.1,\"3,600,000\"\\r\\n86,WR 102,\"018,134\",19,0.39,\"282,000\"\\r\\n87,VFTS 352,\"0164,000\",57.48,14.47,\"330,000\"\\r\\n88,YBP 1194,\"02,772\",1.01,0.99,0.98\\r\\n89,Gliese 1214,047.5,0.16,0.21,0.0033\\r\\n90,NML Cygni,\"05,251\",50,\"1,640 - 2,770\",\"229,000\"\\r\\n91,VB 10,018.72,0.075,0.10,0.0004\\r\\n92,WOH G64,\"0163,000\",<20,\"1,540 - 1,730\",\"340-589,000\"\\r\\n93,TRAPPIST-1,039.6,0.089,0.12,0.0005\\r\\n94,2MASS J0523-1403,040.3,0.07,0.086,0.00013\\r\\n95,WISE 0855\\xe2\\x88\\x920714,07.27,0.003,?,?\\r\\n96,Icarus,\"014,400,000,000\",33,?,\"850,000\"\\r\\n'}"
            ]
          },
          "metadata": {},
          "execution_count": 10
        }
      ]
    },
    {
      "cell_type": "code",
      "source": [
        "import csv\n",
        "import pandas as pd\n",
        "\n",
        "file1 = 'bright_stars.csv'\n",
        "file2 = 'unit_converted_stars.csv'\n",
        "\n",
        "d1 = []\n",
        "d2 = []\n",
        "with open(file1,'r',encoding='utf8') as f:\n",
        "    csv_reader =csv.reader(f)\n",
        "    \n",
        "    for i in csv_reader:\n",
        "        d1.append(i)\n",
        "        \n",
        "with open(file2,'r',encoding='utf8') as f:\n",
        "    csv_reader = csv.reader(f)\n",
        "    \n",
        "    for i in csv_reader:\n",
        "        d2.append(i)\n",
        "\n",
        "h1 = d1[0]\n",
        "h2 = d2[0]\n",
        "\n",
        "p_d1 = d1[1:]\n",
        "p_d2 = d2[1:]\n",
        "\n",
        "h = h1+h2\n",
        "\n",
        "p_d =[]\n",
        "\n",
        "for i in p_d1:\n",
        "    p_d.append(i)\n",
        "for j in p_d2:\n",
        "    p_d.append(j)\n",
        "with open(\"total_stars.csv\",'w',encoding='utf8') as f:\n",
        "    csvwriter = csv.writer(f)\n",
        "    csvwriter.writerow(h)   \n",
        "    csvwriter.writerows(p_d)\n",
        "    \n",
        "df = pd.read_csv('total_stars.csv')"
      ],
      "metadata": {
        "id": "GwyqOMHV4sAr"
      },
      "execution_count": 11,
      "outputs": []
    }
  ]
}